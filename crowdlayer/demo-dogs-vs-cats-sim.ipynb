{
 "cells": [
  {
   "cell_type": "markdown",
   "metadata": {},
   "source": [
    "# Import required libraries"
   ]
  },
  {
   "cell_type": "code",
   "execution_count": 1,
   "metadata": {},
   "outputs": [
    {
     "name": "stderr",
     "output_type": "stream",
     "text": [
      "Using TensorFlow backend.\n"
     ]
    }
   ],
   "source": [
    "import numpy as np\n",
    "import pandas as pd\n",
    "import tensorflow as tf\n",
    "import matplotlib.cm as cm\n",
    "import scipy.stats\n",
    "from matplotlib import pyplot as plt \n",
    "from keras.models import Sequential\n",
    "from keras.layers import Conv2D, MaxPooling2D, GlobalAveragePooling2D\n",
    "from keras.layers import Activation, Dropout, Flatten, Dense, Input\n",
    "from keras.layers.normalization import BatchNormalization\n",
    "\n",
    "# packages for learning from crowds\n",
    "from crowd_layer.crowd_layers import CrowdsClassification, MaskedMultiCrossEntropy\n",
    "from crowd_layer.crowd_aggregators import CrowdsCategoricalAggregator\n",
    "\n",
    "# prevent tensorflow from allocating the entire GPU memory at once\n",
    "config = tf.ConfigProto()\n",
    "config.gpu_options.allow_growth=True\n",
    "sess = tf.Session(config=config)"
   ]
  },
  {
   "cell_type": "markdown",
   "metadata": {},
   "source": [
    "# Configuration parameters"
   ]
  },
  {
   "cell_type": "code",
   "execution_count": 2,
   "metadata": {
    "collapsed": true
   },
   "outputs": [],
   "source": [
    "DATA_PATH = \"/home/fmpr/datasets/deep-crowds-datasets/dogs_vs_cats_sim/prepared/\"\n",
    "N_CLASSES = 2\n",
    "BATCH_SIZE = 16\n",
    "N_EPOCHS = 30"
   ]
  },
  {
   "cell_type": "markdown",
   "metadata": {},
   "source": [
    "# Load data"
   ]
  },
  {
   "cell_type": "code",
   "execution_count": 3,
   "metadata": {
    "collapsed": true
   },
   "outputs": [],
   "source": [
    "def load_data(filename):\n",
    "    f = open(filename)\n",
    "    data = np.load(f)\n",
    "    f.close()\n",
    "    return data"
   ]
  },
  {
   "cell_type": "code",
   "execution_count": 4,
   "metadata": {},
   "outputs": [
    {
     "name": "stdout",
     "output_type": "stream",
     "text": [
      "\n",
      "Loading train data...\n",
      "(12500, 150, 150, 3)\n",
      "(12500,)\n",
      "(12500,)\n",
      "(12500,)\n",
      "\n",
      "Loading AMT data...\n",
      "(12500, 5)\n",
      "\n",
      "N_CLASSES: 2\n",
      "N_ANNOT: 5\n",
      "\n",
      "Loading test data...\n",
      "(12500, 150, 150, 3)\n",
      "(12500,)\n"
     ]
    }
   ],
   "source": [
    "print \"\\nLoading train data...\"\n",
    "\n",
    "data_train = load_data(DATA_PATH+\"data_train.npy\")\n",
    "print data_train.shape\n",
    "\n",
    "labels_train = load_data(DATA_PATH+\"labels_train.npy\")\n",
    "print labels_train.shape\n",
    "\n",
    "labels_train_mv = load_data(DATA_PATH+\"labels_train_mv.npy\")\n",
    "print labels_train_mv.shape\n",
    "\n",
    "labels_train_ds = pd.read_csv(DATA_PATH+\"labels_train_DS.txt\", header=None).as_matrix()[:,0]\n",
    "print labels_train_ds.shape\n",
    "\n",
    "# data from Amazon Mechanical Turk\n",
    "print \"\\nLoading AMT data...\"\n",
    "answers = load_data(DATA_PATH+\"labels_train_sim.npy\")\n",
    "print answers.shape\n",
    "N_ANNOT = answers.shape[1]\n",
    "print \"\\nN_CLASSES:\", N_CLASSES\n",
    "print \"N_ANNOT:\", N_ANNOT\n",
    "\n",
    "# load test data\n",
    "print \"\\nLoading test data...\"\n",
    "\n",
    "data_test = load_data(DATA_PATH+\"data_test.npy\")\n",
    "print data_test.shape\n",
    "\n",
    "labels_test = load_data(DATA_PATH+\"labels_test.npy\")\n",
    "print labels_test.shape"
   ]
  },
  {
   "cell_type": "markdown",
   "metadata": {},
   "source": [
    "# Convert data to one-hot encoding"
   ]
  },
  {
   "cell_type": "code",
   "execution_count": 5,
   "metadata": {
    "collapsed": true
   },
   "outputs": [],
   "source": [
    "def one_hot(target, n_classes):\n",
    "    targets = np.array([target]).reshape(-1)\n",
    "    one_hot_targets = np.eye(n_classes)[targets]\n",
    "    return one_hot_targets"
   ]
  },
  {
   "cell_type": "code",
   "execution_count": 6,
   "metadata": {},
   "outputs": [
    {
     "name": "stdout",
     "output_type": "stream",
     "text": [
      "\n",
      "Converting to one-hot encoding...\n",
      "(12500, 2)\n",
      "(12500, 2)\n",
      "(12500, 2)\n",
      "(12500, 2)\n"
     ]
    },
    {
     "data": {
      "text/plain": [
       "(12500, 2, 5)"
      ]
     },
     "execution_count": 6,
     "metadata": {},
     "output_type": "execute_result"
    }
   ],
   "source": [
    "print \"\\nConverting to one-hot encoding...\"\n",
    "labels_train_bin = one_hot(labels_train, N_CLASSES)\n",
    "print labels_train_bin.shape\n",
    "labels_train_mv_bin = one_hot(labels_train_mv, N_CLASSES)\n",
    "print labels_train_mv_bin.shape\n",
    "labels_train_ds_bin = one_hot(labels_train_ds, N_CLASSES)\n",
    "print labels_train_ds_bin.shape\n",
    "labels_test_bin = one_hot(labels_test, N_CLASSES)\n",
    "print labels_test_bin.shape\n",
    "\n",
    "answers_bin_missings = []\n",
    "for i in range(len(answers)):\n",
    "    row = []\n",
    "    for r in range(N_ANNOT):\n",
    "        if answers[i,r] == -1:\n",
    "            row.append(-1 * np.ones(N_CLASSES))\n",
    "        else:\n",
    "            row.append(one_hot(answers[i,r], N_CLASSES)[0,:])\n",
    "    answers_bin_missings.append(row)\n",
    "answers_bin_missings = np.array(answers_bin_missings).swapaxes(1,2)\n",
    "answers_bin_missings.shape"
   ]
  },
  {
   "cell_type": "markdown",
   "metadata": {},
   "source": [
    "# Define the base deep learning model\n",
    "\n",
    "Here we shall use features representation produced by the VGG16 network as the input. Our base model is then simply composed by one densely-connected layer with 128 hidden units and an output dense layer. We use 50% dropout between the two dense layers."
   ]
  },
  {
   "cell_type": "code",
   "execution_count": 7,
   "metadata": {
    "collapsed": true
   },
   "outputs": [],
   "source": [
    "def build_base_model():\n",
    "    base_model = Sequential()\n",
    "    base_model.add(Conv2D(32, (3, 3), input_shape=(150, 150, 3)))\n",
    "    base_model.add(Activation('relu'))\n",
    "    base_model.add(MaxPooling2D(pool_size=(2, 2)))\n",
    "    base_model.add(BatchNormalization(scale=False))\n",
    "\n",
    "    base_model.add(Conv2D(32, (3, 3)))\n",
    "    base_model.add(Activation('relu'))\n",
    "    base_model.add(MaxPooling2D(pool_size=(2, 2)))\n",
    "\n",
    "    base_model.add(Conv2D(64, (3, 3)))\n",
    "    base_model.add(Activation('relu'))\n",
    "    base_model.add(MaxPooling2D(pool_size=(2, 2)))\n",
    "\n",
    "    base_model.add(Conv2D(64, (3, 3)))\n",
    "    base_model.add(Activation('relu'))\n",
    "    base_model.add(MaxPooling2D(pool_size=(2, 2)))\n",
    "\n",
    "    base_model.add(Flatten()) \n",
    "    base_model.add(Dense(128))\n",
    "    base_model.add(Activation('relu'))\n",
    "    base_model.add(Dropout(0.5))\n",
    "    base_model.add(Dense(N_CLASSES))\n",
    "    base_model.add(Activation('softmax'))\n",
    "    base_model.compile(optimizer='adam', loss='categorical_crossentropy')\n",
    "\n",
    "    return base_model"
   ]
  },
  {
   "cell_type": "markdown",
   "metadata": {},
   "source": [
    "# Auxiliary function for evaluating the models"
   ]
  },
  {
   "cell_type": "code",
   "execution_count": 8,
   "metadata": {
    "collapsed": true
   },
   "outputs": [],
   "source": [
    "def eval_model(model, test_data, test_labels):\n",
    "    # testset accuracy\n",
    "    preds_test = model.predict(test_data)\n",
    "    preds_test_num = np.argmax(preds_test, axis=1)\n",
    "    accuracy_test = 1.0*np.sum(preds_test_num == test_labels) / len(test_labels)\n",
    "\n",
    "    return accuracy_test"
   ]
  },
  {
   "cell_type": "markdown",
   "metadata": {},
   "source": [
    "# Train the model on the true labels (ground truth) and evaluate on testset"
   ]
  },
  {
   "cell_type": "code",
   "execution_count": 9,
   "metadata": {
    "scrolled": true
   },
   "outputs": [
    {
     "name": "stdout",
     "output_type": "stream",
     "text": [
      "Epoch 1/30\n",
      "16s - loss: 0.6589\n",
      "Epoch 2/30\n",
      "15s - loss: 0.5911\n",
      "Epoch 3/30\n",
      "16s - loss: 0.5190\n",
      "Epoch 4/30\n",
      "15s - loss: 0.4552\n",
      "Epoch 5/30\n",
      "16s - loss: 0.4027\n",
      "Epoch 6/30\n",
      "15s - loss: 0.3494\n",
      "Epoch 7/30\n",
      "16s - loss: 0.3039\n",
      "Epoch 8/30\n",
      "16s - loss: 0.2719\n",
      "Epoch 9/30\n",
      "16s - loss: 0.2296\n",
      "Epoch 10/30\n",
      "16s - loss: 0.1961\n",
      "Epoch 11/30\n",
      "16s - loss: 0.1756\n",
      "Epoch 12/30\n",
      "16s - loss: 0.1449\n",
      "Epoch 13/30\n",
      "16s - loss: 0.1287\n",
      "Epoch 14/30\n",
      "16s - loss: 0.1214\n",
      "Epoch 15/30\n",
      "16s - loss: 0.1027\n",
      "Epoch 16/30\n",
      "15s - loss: 0.1134\n",
      "Epoch 17/30\n",
      "16s - loss: 0.0890\n",
      "Epoch 18/30\n",
      "16s - loss: 0.0901\n",
      "Epoch 19/30\n",
      "16s - loss: 0.0851\n",
      "Epoch 20/30\n",
      "15s - loss: 0.0785\n",
      "Epoch 21/30\n",
      "16s - loss: 0.0879\n",
      "Epoch 22/30\n",
      "15s - loss: 0.0772\n",
      "Epoch 23/30\n",
      "16s - loss: 0.0708\n",
      "Epoch 24/30\n",
      "16s - loss: 0.0751\n",
      "Epoch 25/30\n",
      "16s - loss: 0.0639\n",
      "Epoch 26/30\n",
      "15s - loss: 0.0648\n",
      "Epoch 27/30\n",
      "16s - loss: 0.0672\n",
      "Epoch 28/30\n",
      "16s - loss: 0.0738\n",
      "Epoch 29/30\n",
      "15s - loss: 0.0682\n",
      "Epoch 30/30\n",
      "15s - loss: 0.0638\n"
     ]
    },
    {
     "data": {
      "text/plain": [
       "<keras.callbacks.History at 0x7fc5d5f29cd0>"
      ]
     },
     "execution_count": 9,
     "metadata": {},
     "output_type": "execute_result"
    }
   ],
   "source": [
    "model = build_base_model()\n",
    "model.fit(data_train, labels_train_bin, epochs=N_EPOCHS, shuffle=True, batch_size=BATCH_SIZE, verbose=2)"
   ]
  },
  {
   "cell_type": "code",
   "execution_count": 10,
   "metadata": {},
   "outputs": [
    {
     "name": "stdout",
     "output_type": "stream",
     "text": [
      "Accuracy: Test: 0.841\n"
     ]
    }
   ],
   "source": [
    "accuracy_test = eval_model(model, data_test, labels_test)\n",
    "print \"Accuracy: Test: %.3f\" % (accuracy_test,) "
   ]
  },
  {
   "cell_type": "markdown",
   "metadata": {},
   "source": [
    "# Train the model on the output of majority voting and evaluate on testset"
   ]
  },
  {
   "cell_type": "code",
   "execution_count": 11,
   "metadata": {
    "scrolled": true
   },
   "outputs": [
    {
     "name": "stdout",
     "output_type": "stream",
     "text": [
      "Epoch 1/30\n",
      "15s - loss: 0.6834\n",
      "Epoch 2/30\n",
      "14s - loss: 0.6793\n",
      "Epoch 3/30\n",
      "14s - loss: 0.6786\n",
      "Epoch 4/30\n",
      "14s - loss: 0.6787\n",
      "Epoch 5/30\n",
      "14s - loss: 0.6792\n",
      "Epoch 6/30\n",
      "14s - loss: 0.6802\n",
      "Epoch 7/30\n",
      "14s - loss: 0.6687\n",
      "Epoch 8/30\n",
      "14s - loss: 0.6510\n",
      "Epoch 9/30\n",
      "14s - loss: 0.6291\n",
      "Epoch 10/30\n",
      "14s - loss: 0.6018\n",
      "Epoch 11/30\n",
      "14s - loss: 0.5831\n",
      "Epoch 12/30\n",
      "14s - loss: 0.5598\n",
      "Epoch 13/30\n",
      "14s - loss: 0.5364\n",
      "Epoch 14/30\n",
      "14s - loss: 0.5064\n",
      "Epoch 15/30\n",
      "14s - loss: 0.4695\n",
      "Epoch 16/30\n",
      "14s - loss: 0.4188\n",
      "Epoch 17/30\n",
      "14s - loss: 0.3754\n",
      "Epoch 18/30\n",
      "14s - loss: 0.3316\n",
      "Epoch 19/30\n",
      "14s - loss: 0.2921\n",
      "Epoch 20/30\n",
      "14s - loss: 0.2614\n",
      "Epoch 21/30\n",
      "14s - loss: 0.2360\n",
      "Epoch 22/30\n",
      "14s - loss: 0.2222\n",
      "Epoch 23/30\n",
      "14s - loss: 0.1975\n",
      "Epoch 24/30\n",
      "14s - loss: 0.1795\n",
      "Epoch 25/30\n",
      "14s - loss: 0.1783\n",
      "Epoch 26/30\n",
      "14s - loss: 0.1629\n",
      "Epoch 27/30\n",
      "14s - loss: 0.1479\n",
      "Epoch 28/30\n",
      "14s - loss: 0.1521\n",
      "Epoch 29/30\n",
      "14s - loss: 0.1582\n",
      "Epoch 30/30\n",
      "14s - loss: 0.1462\n"
     ]
    },
    {
     "data": {
      "text/plain": [
       "<keras.callbacks.History at 0x7fc5b86b72d0>"
      ]
     },
     "execution_count": 11,
     "metadata": {},
     "output_type": "execute_result"
    }
   ],
   "source": [
    "model = build_base_model()\n",
    "model.fit(data_train, labels_train_mv_bin, epochs=N_EPOCHS, shuffle=True, batch_size=BATCH_SIZE, verbose=2)"
   ]
  },
  {
   "cell_type": "code",
   "execution_count": 12,
   "metadata": {},
   "outputs": [
    {
     "name": "stdout",
     "output_type": "stream",
     "text": [
      "Accuracy: Test: 0.702\n"
     ]
    }
   ],
   "source": [
    "accuracy_test = eval_model(model, data_test, labels_test)\n",
    "print \"Accuracy: Test: %.3f\" % (accuracy_test,) "
   ]
  },
  {
   "cell_type": "markdown",
   "metadata": {},
   "source": [
    "# Train the model on the output of Dawid & Skene [1] and evaluate on testset\n",
    "\n",
    "[1] Dawid, A.P. and Skene, A.M., 1979. Maximum likelihood estimation of observer error-rates using the EM algorithm. Applied statistics, pp.20-28."
   ]
  },
  {
   "cell_type": "code",
   "execution_count": 13,
   "metadata": {
    "scrolled": true
   },
   "outputs": [
    {
     "name": "stdout",
     "output_type": "stream",
     "text": [
      "Epoch 1/30\n",
      "15s - loss: 0.6766\n",
      "Epoch 2/30\n",
      "14s - loss: 0.6532\n",
      "Epoch 3/30\n",
      "14s - loss: 0.6221\n",
      "Epoch 4/30\n",
      "14s - loss: 0.5788\n",
      "Epoch 5/30\n",
      "14s - loss: 0.5503\n",
      "Epoch 6/30\n",
      "14s - loss: 0.5185\n",
      "Epoch 7/30\n",
      "14s - loss: 0.4837\n",
      "Epoch 8/30\n",
      "14s - loss: 0.4498\n",
      "Epoch 9/30\n",
      "14s - loss: 0.4065\n",
      "Epoch 10/30\n",
      "14s - loss: 0.3658\n",
      "Epoch 11/30\n",
      "14s - loss: 0.3206\n",
      "Epoch 12/30\n",
      "14s - loss: 0.2786\n",
      "Epoch 13/30\n",
      "14s - loss: 0.2440\n",
      "Epoch 14/30\n",
      "14s - loss: 0.2185\n",
      "Epoch 15/30\n",
      "14s - loss: 0.1962\n",
      "Epoch 16/30\n",
      "14s - loss: 0.1740\n",
      "Epoch 17/30\n",
      "14s - loss: 0.1687\n",
      "Epoch 18/30\n",
      "14s - loss: 0.1491\n",
      "Epoch 19/30\n",
      "14s - loss: 0.1446\n",
      "Epoch 20/30\n",
      "14s - loss: 0.1328\n",
      "Epoch 21/30\n",
      "14s - loss: 0.1354\n",
      "Epoch 22/30\n",
      "14s - loss: 0.1392\n",
      "Epoch 23/30\n",
      "14s - loss: 0.1180\n",
      "Epoch 24/30\n",
      "14s - loss: 0.1173\n",
      "Epoch 25/30\n",
      "14s - loss: 0.1146\n",
      "Epoch 26/30\n",
      "14s - loss: 0.1030\n",
      "Epoch 27/30\n",
      "14s - loss: 0.1088\n",
      "Epoch 28/30\n",
      "14s - loss: 0.1064\n",
      "Epoch 29/30\n",
      "14s - loss: 0.0972\n",
      "Epoch 30/30\n",
      "14s - loss: 0.1066\n"
     ]
    },
    {
     "data": {
      "text/plain": [
       "<keras.callbacks.History at 0x7fc5841e4350>"
      ]
     },
     "execution_count": 13,
     "metadata": {},
     "output_type": "execute_result"
    }
   ],
   "source": [
    "model = build_base_model()\n",
    "model.fit(data_train, labels_train_ds_bin, epochs=N_EPOCHS, shuffle=True, batch_size=BATCH_SIZE, verbose=2)"
   ]
  },
  {
   "cell_type": "code",
   "execution_count": 14,
   "metadata": {},
   "outputs": [
    {
     "name": "stdout",
     "output_type": "stream",
     "text": [
      "Accuracy: Test: 0.772\n"
     ]
    }
   ],
   "source": [
    "accuracy_test = eval_model(model, data_test, labels_test)\n",
    "print \"Accuracy: Test: %.3f\" % (accuracy_test,) "
   ]
  },
  {
   "cell_type": "markdown",
   "metadata": {},
   "source": [
    "# Train the model using EM approach and evaluate on testset\n",
    "\n",
    "The CrowdsCategoricalAggregator class acts as a wrapper for the base model that computed the EM steps."
   ]
  },
  {
   "cell_type": "code",
   "execution_count": 15,
   "metadata": {
    "scrolled": true
   },
   "outputs": [
    {
     "name": "stdout",
     "output_type": "stream",
     "text": [
      "Epoch: 1\n",
      "E-step\n",
      "Adjusted ground truth accuracy: 0.84224\n",
      "M-step\n",
      "loss: 0.684392473335\n",
      "Epoch: 2\n",
      "E-step\n",
      "Adjusted ground truth accuracy: 0.59224\n",
      "M-step\n",
      "loss: 0.0323643980789\n",
      "Epoch: 3\n",
      "E-step\n",
      "Adjusted ground truth accuracy: 0.5916\n",
      "M-step\n",
      "loss: 0.0324461836386\n",
      "Epoch: 4\n",
      "E-step\n",
      "Adjusted ground truth accuracy: 0.59232\n",
      "M-step\n",
      "loss: 0.0324133456659\n",
      "Epoch: 5\n",
      "E-step\n",
      "Adjusted ground truth accuracy: 0.59528\n",
      "M-step\n",
      "loss: 0.0324044745845\n",
      "Epoch: 6\n",
      "E-step\n",
      "Adjusted ground truth accuracy: 0.60376\n",
      "M-step\n",
      "loss: 0.0323817200661\n",
      "Epoch: 7\n",
      "E-step\n",
      "Adjusted ground truth accuracy: 0.6124\n",
      "M-step\n",
      "loss: 0.0323012759167\n",
      "Epoch: 8\n",
      "E-step\n",
      "Adjusted ground truth accuracy: 0.63144\n",
      "M-step\n",
      "loss: 0.0322988915277\n",
      "Epoch: 9\n",
      "E-step\n",
      "Adjusted ground truth accuracy: 0.65864\n",
      "M-step\n",
      "loss: 0.0322074132478\n",
      "Epoch: 10\n",
      "E-step\n",
      "Adjusted ground truth accuracy: 0.68808\n",
      "M-step\n",
      "loss: 0.0321140321147\n",
      "Epoch: 11\n",
      "E-step\n",
      "Adjusted ground truth accuracy: 0.68856\n",
      "M-step\n",
      "loss: 0.0317038526654\n",
      "Epoch: 12\n",
      "E-step\n",
      "Adjusted ground truth accuracy: 0.72656\n",
      "M-step\n",
      "loss: 0.031607694242\n",
      "Epoch: 13\n",
      "E-step\n",
      "Adjusted ground truth accuracy: 0.77176\n",
      "M-step\n",
      "loss: 0.0311710294521\n",
      "Epoch: 14\n",
      "E-step\n",
      "Adjusted ground truth accuracy: 0.73056\n",
      "M-step\n",
      "loss: 0.0308162715697\n",
      "Epoch: 15\n",
      "E-step\n",
      "Adjusted ground truth accuracy: 0.8108\n",
      "M-step\n",
      "loss: 0.0309182809818\n",
      "Epoch: 16\n",
      "E-step\n",
      "Adjusted ground truth accuracy: 0.852\n",
      "M-step\n",
      "loss: 0.0301130830103\n",
      "Epoch: 17\n",
      "E-step\n",
      "Adjusted ground truth accuracy: 0.89312\n",
      "M-step\n",
      "loss: 0.0287455912322\n",
      "Epoch: 18\n",
      "E-step\n",
      "Adjusted ground truth accuracy: 0.8732\n",
      "M-step\n",
      "loss: 0.0258560727674\n",
      "Epoch: 19\n",
      "E-step\n",
      "Adjusted ground truth accuracy: 0.92888\n",
      "M-step\n",
      "loss: 0.0250166548991\n",
      "Epoch: 20\n",
      "E-step\n",
      "Adjusted ground truth accuracy: 0.9452\n",
      "M-step\n",
      "loss: 0.0225298188084\n",
      "Epoch: 21\n",
      "E-step\n",
      "Adjusted ground truth accuracy: 0.93336\n",
      "M-step\n",
      "loss: 0.0193395829326\n",
      "Epoch: 22\n",
      "E-step\n",
      "Adjusted ground truth accuracy: 0.93264\n",
      "M-step\n",
      "loss: 0.0180083059943\n",
      "Epoch: 23\n",
      "E-step\n",
      "Adjusted ground truth accuracy: 0.92792\n",
      "M-step\n",
      "loss: 0.0143688721249\n",
      "Epoch: 24\n",
      "E-step\n",
      "Adjusted ground truth accuracy: 0.92664\n",
      "M-step\n",
      "loss: 0.0136771964675\n",
      "Epoch: 25\n",
      "E-step\n",
      "Adjusted ground truth accuracy: 0.93216\n",
      "M-step\n",
      "loss: 0.0124778720936\n",
      "Epoch: 26\n",
      "E-step\n",
      "Adjusted ground truth accuracy: 0.92264\n",
      "M-step\n",
      "loss: 0.0121590540145\n",
      "Epoch: 27\n",
      "E-step\n",
      "Adjusted ground truth accuracy: 0.9376\n",
      "M-step\n",
      "loss: 0.0121397830095\n",
      "Epoch: 28\n",
      "E-step\n",
      "Adjusted ground truth accuracy: 0.93352\n",
      "M-step\n",
      "loss: 0.012337784813\n",
      "Epoch: 29\n",
      "E-step\n",
      "Adjusted ground truth accuracy: 0.93672\n",
      "M-step\n",
      "loss: 0.00958512822129\n",
      "Epoch: 30\n",
      "E-step\n",
      "Adjusted ground truth accuracy: 0.93312\n",
      "M-step\n",
      "loss: 0.0108407262293\n"
     ]
    }
   ],
   "source": [
    "model = build_base_model()\n",
    "crowds_agg = CrowdsCategoricalAggregator(model, data_train, answers, batch_size=BATCH_SIZE)\n",
    "for epoch in xrange(N_EPOCHS):\n",
    "    print \"Epoch:\", epoch+1\n",
    "    \n",
    "    # E-step\n",
    "    ground_truth_est = crowds_agg.e_step()\n",
    "    print \"Adjusted ground truth accuracy:\", 1.0*np.sum(np.argmax(ground_truth_est, axis=1) == labels_train) / len(labels_train)\n",
    "    \n",
    "    # M-step\n",
    "    model, pi = crowds_agg.m_step()"
   ]
  },
  {
   "cell_type": "code",
   "execution_count": 16,
   "metadata": {},
   "outputs": [
    {
     "name": "stdout",
     "output_type": "stream",
     "text": [
      "Accuracy: Test: 0.805\n"
     ]
    }
   ],
   "source": [
    "accuracy_test = eval_model(model, data_test, labels_test)\n",
    "print \"Accuracy: Test: %.3f\" % (accuracy_test,) "
   ]
  },
  {
   "cell_type": "markdown",
   "metadata": {},
   "source": [
    "# Train the model using proposed DL-MW approach and evaluate on testset\n",
    "\n",
    "We start by adding a new layer (CrowdsClassification) on top of our neural network. We then require a special loss (MaskedMultiCrossEntropy) to handle the missing labels from some of the annotators (encoded as \"-1\").\n",
    "\n",
    "Notice how the training is faster then the EM approach."
   ]
  },
  {
   "cell_type": "code",
   "execution_count": 17,
   "metadata": {
    "scrolled": true
   },
   "outputs": [
    {
     "name": "stdout",
     "output_type": "stream",
     "text": [
      "Epoch 1/30\n",
      "15s - loss: 0.6527\n",
      "Epoch 2/30\n",
      "14s - loss: 0.6279\n",
      "Epoch 3/30\n",
      "14s - loss: 0.6152\n",
      "Epoch 4/30\n",
      "14s - loss: 0.6041\n",
      "Epoch 5/30\n",
      "14s - loss: 0.5925\n",
      "Epoch 6/30\n",
      "14s - loss: 0.5818\n",
      "Epoch 7/30\n",
      "14s - loss: 0.5704\n",
      "Epoch 8/30\n",
      "14s - loss: 0.5604\n",
      "Epoch 9/30\n",
      "14s - loss: 0.5540\n",
      "Epoch 10/30\n",
      "14s - loss: 0.5429\n",
      "Epoch 11/30\n",
      "14s - loss: 0.5362\n",
      "Epoch 12/30\n",
      "14s - loss: 0.5324\n",
      "Epoch 13/30\n",
      "14s - loss: 0.5244\n",
      "Epoch 14/30\n",
      "14s - loss: 0.5214\n",
      "Epoch 15/30\n",
      "14s - loss: 0.5147\n",
      "Epoch 16/30\n",
      "14s - loss: 0.5117\n",
      "Epoch 17/30\n",
      "14s - loss: 0.5070\n",
      "Epoch 18/30\n",
      "14s - loss: 0.5055\n",
      "Epoch 19/30\n",
      "14s - loss: 0.5049\n",
      "Epoch 20/30\n",
      "14s - loss: 0.4992\n",
      "Epoch 21/30\n",
      "14s - loss: 0.4988\n",
      "Epoch 22/30\n",
      "14s - loss: 0.4969\n",
      "Epoch 23/30\n",
      "14s - loss: 0.4938\n",
      "Epoch 24/30\n",
      "14s - loss: 0.4944\n",
      "Epoch 25/30\n",
      "14s - loss: 0.4904\n",
      "Epoch 26/30\n",
      "14s - loss: 0.4905\n",
      "Epoch 27/30\n",
      "14s - loss: 0.4893\n",
      "Epoch 28/30\n",
      "14s - loss: 0.4905\n",
      "Epoch 29/30\n",
      "14s - loss: 0.4865\n",
      "Epoch 30/30\n",
      "14s - loss: 0.4873\n"
     ]
    },
    {
     "data": {
      "text/plain": [
       "<keras.callbacks.History at 0x7fc5b80daf10>"
      ]
     },
     "execution_count": 17,
     "metadata": {},
     "output_type": "execute_result"
    }
   ],
   "source": [
    "model = build_base_model()\n",
    "\n",
    "# add crowds layer on top of the base model\n",
    "model.add(CrowdsClassification(N_CLASSES, N_ANNOT, conn_type=\"MW\"))\n",
    "\n",
    "# instantiate specialized masked loss to handle missing answers\n",
    "loss = MaskedMultiCrossEntropy().loss\n",
    "\n",
    "# compile model with masked loss and train\n",
    "model.compile(optimizer='adam', loss=loss)\n",
    "model.fit(data_train, answers_bin_missings, epochs=N_EPOCHS, shuffle=True, batch_size=BATCH_SIZE, verbose=2)"
   ]
  },
  {
   "cell_type": "markdown",
   "metadata": {},
   "source": [
    "Before evaluating our model, we need to remove the crowds layer used during training in order to expose the aggregation (bottleneck) layer"
   ]
  },
  {
   "cell_type": "code",
   "execution_count": 18,
   "metadata": {},
   "outputs": [
    {
     "name": "stdout",
     "output_type": "stream",
     "text": [
      "Accuracy: Test: 0.812\n"
     ]
    }
   ],
   "source": [
    "# save weights from crowds layer for later\n",
    "weights = model.layers[-1].get_weights()\n",
    "\n",
    "# remove crowds layer before making predictions\n",
    "model.pop() \n",
    "model.compile(optimizer='adam', loss='categorical_crossentropy', metrics=['accuracy'])\n",
    "\n",
    "accuracy_test = eval_model(model, data_test, labels_test)\n",
    "print \"Accuracy: Test: %.3f\" % (accuracy_test,) "
   ]
  },
  {
   "cell_type": "markdown",
   "metadata": {},
   "source": [
    "# Compare the weights learned by the crowds layer for each annotator with their true confution matrices\n",
    "\n",
    "First, compute true confusion matrices:"
   ]
  },
  {
   "cell_type": "code",
   "execution_count": 19,
   "metadata": {
    "collapsed": true
   },
   "outputs": [],
   "source": [
    "conf_mats = np.zeros((N_CLASSES,N_CLASSES,N_ANNOT)) + 0.00000001\n",
    "num_answers = np.zeros((N_CLASSES,N_ANNOT)) + (0.00000001 * N_CLASSES)\n",
    "for i in xrange(len(answers)):\n",
    "    for r in xrange(N_ANNOT):\n",
    "        if answers[i][r] != -1:\n",
    "            num_answers[labels_train[i],r] += 1\n",
    "            conf_mats[labels_train[i],answers[i][r],r] += 1\n",
    "for r in xrange(N_ANNOT):\n",
    "    for c in xrange(N_CLASSES):\n",
    "        for c2 in xrange(N_CLASSES):\n",
    "            conf_mats[c,c2,r] = conf_mats[c,c2,r] / num_answers[c,r]"
   ]
  },
  {
   "cell_type": "code",
   "execution_count": 20,
   "metadata": {},
   "outputs": [
    {
     "name": "stdout",
     "output_type": "stream",
     "text": [
      "True values for sensitivity: [ 0.70528  0.79584  0.49872  0.19536  0.89824]\n"
     ]
    }
   ],
   "source": [
    "print \"True values for sensitivity:\", conf_mats[1,1,:]"
   ]
  },
  {
   "cell_type": "code",
   "execution_count": 21,
   "metadata": {},
   "outputs": [
    {
     "name": "stdout",
     "output_type": "stream",
     "text": [
      "Learned weights for sensitivity: [ 1.00891089  1.47721922  0.49702653 -0.16305956  2.02543855]\n"
     ]
    }
   ],
   "source": [
    "print \"Learned weights for sensitivity:\", weights[0][1,1,:]"
   ]
  },
  {
   "cell_type": "code",
   "execution_count": 22,
   "metadata": {},
   "outputs": [
    {
     "name": "stdout",
     "output_type": "stream",
     "text": [
      "2.97676979683 -0.872584601029\n"
     ]
    },
    {
     "data": {
      "image/png": "[encoded data removed]",
      "text/plain": [
       "<matplotlib.figure.Figure at 0x7fc369caaa50>"
      ]
     },
     "metadata": {},
     "output_type": "display_data"
    }
   ],
   "source": [
    "plt.style.use('ggplot')\n",
    "plt.rc('text', usetex=True)\n",
    "#plt.rc('font', family='serif')\n",
    "slope, intercept, r_value, p_value, std_err = scipy.stats.linregress(conf_mats[1,1,:], weights[0][1,1,:])\n",
    "print slope, intercept\n",
    "plt.scatter(conf_mats[1,1,:], weights[0][1,1,:], s=40)\n",
    "x = np.arange(0.05, 0.95, 0.01)\n",
    "plt.plot(x, slope*x + intercept, 'b-')\n",
    "plt.text(0.15, -0.7, \"corrcoef=%.3f\" % (np.corrcoef(conf_mats[1,1,:], weights[0][1,1,:])[0,1]))\n",
    "plt.xlabel(\"True sensitivity\")\n",
    "plt.ylabel(r\"$W^r_{1,1}$\")\n",
    "plt.savefig(\"sensitivities.png\")\n",
    "plt.savefig(\"sensitivities.eps\")\n",
    "plt.show()"
   ]
  },
  {
   "cell_type": "code",
   "execution_count": 23,
   "metadata": {},
   "outputs": [
    {
     "name": "stdout",
     "output_type": "stream",
     "text": [
      "True values for specificity: [ 0.59088  0.89792  0.49712  0.8992   0.90016]\n"
     ]
    }
   ],
   "source": [
    "print \"True values for specificity:\", conf_mats[0,0,:]"
   ]
  },
  {
   "cell_type": "code",
   "execution_count": 24,
   "metadata": {},
   "outputs": [
    {
     "name": "stdout",
     "output_type": "stream",
     "text": [
      "Learned weights for specificity: [ 0.72044832  1.77842236  0.48955911  1.62380767  1.83825517]\n"
     ]
    }
   ],
   "source": [
    "print \"Learned weights for specificity:\", weights[0][0,0,:]"
   ]
  },
  {
   "cell_type": "code",
   "execution_count": 25,
   "metadata": {},
   "outputs": [
    {
     "name": "stdout",
     "output_type": "stream",
     "text": [
      "3.19455732106 -1.12836023932\n"
     ]
    },
    {
     "data": {
      "image/png": "[encoded data removed]",
      "text/plain": [
       "<matplotlib.figure.Figure at 0x7fc369f0c950>"
      ]
     },
     "metadata": {},
     "output_type": "display_data"
    }
   ],
   "source": [
    "plt.style.use('ggplot')\n",
    "slope, intercept, r_value, p_value, std_err = scipy.stats.linregress(conf_mats[0,0,:], weights[0][0,0,:])\n",
    "print slope, intercept\n",
    "plt.scatter(conf_mats[0,0,:], weights[0][0,0,:], s=40)\n",
    "x = np.arange(0.05, 0.95, 0.01)\n",
    "plt.plot(x, slope*x + intercept, 'b-')\n",
    "plt.text(0.15, -0.95, \"corrcoef=%.3f\" % (np.corrcoef(conf_mats[0,0,:], weights[0][0,0,:])[0,1]))\n",
    "plt.xlabel(\"True specificity\")\n",
    "plt.ylabel(r\"$W^r_{0,0}$\")\n",
    "plt.savefig(\"specificities.png\")\n",
    "plt.savefig(\"specificities.eps\")\n",
    "plt.show()"
   ]
  },
  {
   "cell_type": "markdown",
   "metadata": {},
   "source": [
    "Make comparison for various annotators:"
   ]
  },
  {
   "cell_type": "code",
   "execution_count": null,
   "metadata": {
    "collapsed": true
   },
   "outputs": [],
   "source": []
  }
 ],
 "metadata": {
  "kernelspec": {
   "display_name": "Python 2",
   "language": "python",
   "name": "python2"
  },
  "language_info": {
   "codemirror_mode": {
    "name": "ipython",
    "version": 2
   },
   "file_extension": ".py",
   "mimetype": "text/x-python",
   "name": "python",
   "nbconvert_exporter": "python",
   "pygments_lexer": "ipython2",
   "version": "2.7.13"
  }
 },
 "nbformat": 4,
 "nbformat_minor": 2
}
